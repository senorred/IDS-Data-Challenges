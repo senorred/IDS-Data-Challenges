{
  "nbformat": 4,
  "nbformat_minor": 0,
  "metadata": {
    "colab": {
      "name": "Norred_Liz_HappyHotel.ipynb",
      "provenance": [],
      "mount_file_id": "17HCrMpM3mDG7ZtwiMa0WGl0G9_kyVCVF",
      "authorship_tag": "ABX9TyPUaGVE5jEwa70SFB1g6E0V",
      "include_colab_link": true
    },
    "kernelspec": {
      "name": "python3",
      "display_name": "Python 3"
    }
  },
  "cells": [
    {
      "cell_type": "markdown",
      "metadata": {
        "id": "view-in-github",
        "colab_type": "text"
      },
      "source": [
        "<a href=\"https://colab.research.google.com/github/senorred/IDS-Data-Challenges/blob/master/Norred_Liz_HappyHotel.ipynb\" target=\"_parent\"><img src=\"https://colab.research.google.com/assets/colab-badge.svg\" alt=\"Open In Colab\"/></a>"
      ]
    },
    {
      "cell_type": "markdown",
      "metadata": {
        "id": "aMntGHh2DMPj",
        "colab_type": "text"
      },
      "source": [
        "You've just joined the data team at a large hotelling chain. Your specific team is embedded in the CX (customer experience) division. Each day you receive hundreds of reviews of your 10 hotels from your customers. Each review consists of a free-form text review and a report of \"happy\" or \"not happy\". A product manager on your team wants to understand each hotel's performance at a more granular level; they want to build a product to identify topics within reviews. All of your reviews are unlabeled, and it's infeasible to label them by hand.\n",
        "Design and execute a method to identify topics within the reviews. For each topic, find a robust means of assigning a score to each hotel in that topic. For each of the ten hotels, what recommendations would you make to their general managers?\n",
        "\n",
        "Drawn heavily from: https://towardsdatascience.com/topic-modeling-and-latent-dirichlet-allocation-in-python-9bf156893c24"
      ]
    },
    {
      "cell_type": "markdown",
      "metadata": {
        "id": "BpnJM_4QEBcC",
        "colab_type": "text"
      },
      "source": [
        "##Mount Drive and Import Libraries and Data"
      ]
    },
    {
      "cell_type": "code",
      "metadata": {
        "id": "O1bjv4rdDqjV",
        "colab_type": "code",
        "colab": {
          "base_uri": "https://localhost:8080/",
          "height": 35
        },
        "outputId": "51883e67-10d7-452b-9f13-206333e0f993"
      },
      "source": [
        "from google.colab import drive\n",
        "drive.mount('/gdrive')"
      ],
      "execution_count": 26,
      "outputs": [
        {
          "output_type": "stream",
          "text": [
            "Mounted at /gdrive\n"
          ],
          "name": "stdout"
        }
      ]
    },
    {
      "cell_type": "code",
      "metadata": {
        "id": "99vF3yz9D_5O",
        "colab_type": "code",
        "colab": {
          "base_uri": "https://localhost:8080/",
          "height": 219
        },
        "outputId": "66fd85d1-c6ff-49ba-965c-146ac407c2cc"
      },
      "source": [
        "#nltk.download('stopwords')\n",
        "#nltk.download('wordnet')\n",
        "#nltk.download('punkt')\n",
        "#nltk.download('averaged_perceptron_tagger') "
      ],
      "execution_count": 2,
      "outputs": [
        {
          "output_type": "stream",
          "text": [
            "[nltk_data] Downloading package stopwords to /root/nltk_data...\n",
            "[nltk_data]   Package stopwords is already up-to-date!\n",
            "[nltk_data] Downloading package wordnet to /root/nltk_data...\n",
            "[nltk_data]   Package wordnet is already up-to-date!\n",
            "[nltk_data] Downloading package punkt to /root/nltk_data...\n",
            "[nltk_data]   Package punkt is already up-to-date!\n",
            "[nltk_data] Downloading package averaged_perceptron_tagger to\n",
            "[nltk_data]     /root/nltk_data...\n",
            "[nltk_data]   Package averaged_perceptron_tagger is already up-to-\n",
            "[nltk_data]       date!\n"
          ],
          "name": "stdout"
        },
        {
          "output_type": "execute_result",
          "data": {
            "text/plain": [
              "True"
            ]
          },
          "metadata": {
            "tags": []
          },
          "execution_count": 2
        }
      ]
    },
    {
      "cell_type": "code",
      "metadata": {
        "id": "yOdPVkfGVBAc",
        "colab_type": "code",
        "colab": {
          "base_uri": "https://localhost:8080/",
          "height": 72
        },
        "outputId": "598d3587-5d67-452a-a894-19ace595f297"
      },
      "source": [
        "import gensim\n",
        "from gensim.utils import simple_preprocess\n",
        "from gensim.parsing.preprocessing import STOPWORDS\n",
        "from nltk.stem import WordNetLemmatizer, SnowballStemmer\n",
        "from nltk.stem.porter import *\n",
        "import numpy as np\n",
        "import pandas as pd\n",
        "import matplotlib.pyplot as plt\n",
        "np.random.seed(2018)\n",
        "\n",
        "import nltk\n",
        "nltk.download('wordnet')"
      ],
      "execution_count": 27,
      "outputs": [
        {
          "output_type": "stream",
          "text": [
            "[nltk_data] Downloading package wordnet to /root/nltk_data...\n",
            "[nltk_data]   Package wordnet is already up-to-date!\n"
          ],
          "name": "stdout"
        },
        {
          "output_type": "execute_result",
          "data": {
            "text/plain": [
              "True"
            ]
          },
          "metadata": {
            "tags": []
          },
          "execution_count": 27
        }
      ]
    },
    {
      "cell_type": "code",
      "metadata": {
        "id": "pip4ZUXNEagG",
        "colab_type": "code",
        "colab": {}
      },
      "source": [
        "happy=pd.read_csv('/gdrive/My Drive/Insight Data Science/Data Challenges/happy_hotel/hotel_happy_reviews.csv')\n",
        "sad=pd.read_csv('/gdrive/My Drive/Insight Data Science/Data Challenges/happy_hotel/hotel_not_happy_reviews.csv')\n",
        "alldf= happy.append(sad)"
      ],
      "execution_count": 0,
      "outputs": []
    },
    {
      "cell_type": "markdown",
      "metadata": {
        "id": "0aIuKUYeFhS7",
        "colab_type": "text"
      },
      "source": [
        "##EDA"
      ]
    },
    {
      "cell_type": "code",
      "metadata": {
        "id": "26V-kTKmFXQe",
        "colab_type": "code",
        "colab": {
          "base_uri": "https://localhost:8080/",
          "height": 206
        },
        "outputId": "5f3e6a37-c151-4be9-a96d-4a385a2a304a"
      },
      "source": [
        "happy.head()"
      ],
      "execution_count": 13,
      "outputs": [
        {
          "output_type": "execute_result",
          "data": {
            "text/html": [
              "<div>\n",
              "<style scoped>\n",
              "    .dataframe tbody tr th:only-of-type {\n",
              "        vertical-align: middle;\n",
              "    }\n",
              "\n",
              "    .dataframe tbody tr th {\n",
              "        vertical-align: top;\n",
              "    }\n",
              "\n",
              "    .dataframe thead th {\n",
              "        text-align: right;\n",
              "    }\n",
              "</style>\n",
              "<table border=\"1\" class=\"dataframe\">\n",
              "  <thead>\n",
              "    <tr style=\"text-align: right;\">\n",
              "      <th></th>\n",
              "      <th>User_ID</th>\n",
              "      <th>Description</th>\n",
              "      <th>Is_Response</th>\n",
              "      <th>hotel_ID</th>\n",
              "    </tr>\n",
              "  </thead>\n",
              "  <tbody>\n",
              "    <tr>\n",
              "      <th>0</th>\n",
              "      <td>id10329</td>\n",
              "      <td>Stayed here with husband and sons on the way t...</td>\n",
              "      <td>happy</td>\n",
              "      <td>8</td>\n",
              "    </tr>\n",
              "    <tr>\n",
              "      <th>1</th>\n",
              "      <td>id10331</td>\n",
              "      <td>We had - rooms. One was very nice and clearly ...</td>\n",
              "      <td>happy</td>\n",
              "      <td>3</td>\n",
              "    </tr>\n",
              "    <tr>\n",
              "      <th>2</th>\n",
              "      <td>id10333</td>\n",
              "      <td>My wife &amp; I stayed in this glorious city a whi...</td>\n",
              "      <td>happy</td>\n",
              "      <td>3</td>\n",
              "    </tr>\n",
              "    <tr>\n",
              "      <th>3</th>\n",
              "      <td>id10334</td>\n",
              "      <td>My boyfriend and I stayed at the Fairmont on a...</td>\n",
              "      <td>happy</td>\n",
              "      <td>7</td>\n",
              "    </tr>\n",
              "    <tr>\n",
              "      <th>4</th>\n",
              "      <td>id10336</td>\n",
              "      <td>Steps off Times Square, nice rooms, stayed - n...</td>\n",
              "      <td>happy</td>\n",
              "      <td>3</td>\n",
              "    </tr>\n",
              "  </tbody>\n",
              "</table>\n",
              "</div>"
            ],
            "text/plain": [
              "   User_ID  ... hotel_ID\n",
              "0  id10329  ...        8\n",
              "1  id10331  ...        3\n",
              "2  id10333  ...        3\n",
              "3  id10334  ...        7\n",
              "4  id10336  ...        3\n",
              "\n",
              "[5 rows x 4 columns]"
            ]
          },
          "metadata": {
            "tags": []
          },
          "execution_count": 13
        }
      ]
    },
    {
      "cell_type": "code",
      "metadata": {
        "id": "Xwv2BvBfH1Sr",
        "colab_type": "code",
        "colab": {
          "base_uri": "https://localhost:8080/",
          "height": 206
        },
        "outputId": "e6533b97-21fd-4ffe-96a5-280d1949d3a8"
      },
      "source": [
        "sad.head()"
      ],
      "execution_count": 17,
      "outputs": [
        {
          "output_type": "execute_result",
          "data": {
            "text/html": [
              "<div>\n",
              "<style scoped>\n",
              "    .dataframe tbody tr th:only-of-type {\n",
              "        vertical-align: middle;\n",
              "    }\n",
              "\n",
              "    .dataframe tbody tr th {\n",
              "        vertical-align: top;\n",
              "    }\n",
              "\n",
              "    .dataframe thead th {\n",
              "        text-align: right;\n",
              "    }\n",
              "</style>\n",
              "<table border=\"1\" class=\"dataframe\">\n",
              "  <thead>\n",
              "    <tr style=\"text-align: right;\">\n",
              "      <th></th>\n",
              "      <th>User_ID</th>\n",
              "      <th>Description</th>\n",
              "      <th>Is_Response</th>\n",
              "      <th>hotel_ID</th>\n",
              "    </tr>\n",
              "  </thead>\n",
              "  <tbody>\n",
              "    <tr>\n",
              "      <th>0</th>\n",
              "      <td>id10326</td>\n",
              "      <td>The room was kind of clean but had a VERY stro...</td>\n",
              "      <td>not happy</td>\n",
              "      <td>3</td>\n",
              "    </tr>\n",
              "    <tr>\n",
              "      <th>1</th>\n",
              "      <td>id10327</td>\n",
              "      <td>I stayed at the Crown Plaza April -- - April -...</td>\n",
              "      <td>not happy</td>\n",
              "      <td>9</td>\n",
              "    </tr>\n",
              "    <tr>\n",
              "      <th>2</th>\n",
              "      <td>id10328</td>\n",
              "      <td>I booked this hotel through Hotwire at the low...</td>\n",
              "      <td>not happy</td>\n",
              "      <td>3</td>\n",
              "    </tr>\n",
              "    <tr>\n",
              "      <th>3</th>\n",
              "      <td>id10330</td>\n",
              "      <td>My girlfriends and I stayed here to celebrate ...</td>\n",
              "      <td>not happy</td>\n",
              "      <td>3</td>\n",
              "    </tr>\n",
              "    <tr>\n",
              "      <th>4</th>\n",
              "      <td>id10332</td>\n",
              "      <td>My husband and I have stayed in this hotel a f...</td>\n",
              "      <td>not happy</td>\n",
              "      <td>7</td>\n",
              "    </tr>\n",
              "  </tbody>\n",
              "</table>\n",
              "</div>"
            ],
            "text/plain": [
              "   User_ID  ... hotel_ID\n",
              "0  id10326  ...        3\n",
              "1  id10327  ...        9\n",
              "2  id10328  ...        3\n",
              "3  id10330  ...        3\n",
              "4  id10332  ...        7\n",
              "\n",
              "[5 rows x 4 columns]"
            ]
          },
          "metadata": {
            "tags": []
          },
          "execution_count": 17
        }
      ]
    },
    {
      "cell_type": "code",
      "metadata": {
        "id": "hgRIevYmHVzQ",
        "colab_type": "code",
        "colab": {
          "base_uri": "https://localhost:8080/",
          "height": 109
        },
        "outputId": "0277e152-b478-4ffd-c184-36d3eb392a7e"
      },
      "source": [
        "happy.isna().sum()"
      ],
      "execution_count": 15,
      "outputs": [
        {
          "output_type": "execute_result",
          "data": {
            "text/plain": [
              "User_ID        0\n",
              "Description    0\n",
              "Is_Response    0\n",
              "hotel_ID       0\n",
              "dtype: int64"
            ]
          },
          "metadata": {
            "tags": []
          },
          "execution_count": 15
        }
      ]
    },
    {
      "cell_type": "code",
      "metadata": {
        "id": "urT8N8fMHdYi",
        "colab_type": "code",
        "colab": {
          "base_uri": "https://localhost:8080/",
          "height": 109
        },
        "outputId": "4f790157-3187-4838-80dc-a84e04b9469e"
      },
      "source": [
        "sad.isna().sum()"
      ],
      "execution_count": 16,
      "outputs": [
        {
          "output_type": "execute_result",
          "data": {
            "text/plain": [
              "User_ID        0\n",
              "Description    0\n",
              "Is_Response    0\n",
              "hotel_ID       0\n",
              "dtype: int64"
            ]
          },
          "metadata": {
            "tags": []
          },
          "execution_count": 16
        }
      ]
    },
    {
      "cell_type": "code",
      "metadata": {
        "id": "HpNKpoOvH652",
        "colab_type": "code",
        "colab": {
          "base_uri": "https://localhost:8080/",
          "height": 588
        },
        "outputId": "f71a99d3-6a8c-486e-9f61-6bc30e6581e7"
      },
      "source": [
        "%matplotlib inline\n",
        "happy.hist(bins=10)\n",
        "sad.hist(bins=10)"
      ],
      "execution_count": 22,
      "outputs": [
        {
          "output_type": "execute_result",
          "data": {
            "text/plain": [
              "array([[<matplotlib.axes._subplots.AxesSubplot object at 0x7fe16dd4de80>]],\n",
              "      dtype=object)"
            ]
          },
          "metadata": {
            "tags": []
          },
          "execution_count": 22
        },
        {
          "output_type": "display_data",
          "data": {
            "image/png": "[encoded data removed]",
            "text/plain": [
              "<Figure size 432x288 with 1 Axes>"
            ]
          },
          "metadata": {
            "tags": []
          }
        },
        {
          "output_type": "display_data",
          "data": {
            "image/png": "[encoded data removed]",
            "text/plain": [
              "<Figure size 432x288 with 1 Axes>"
            ]
          },
          "metadata": {
            "tags": []
          }
        }
      ]
    },
    {
      "cell_type": "code",
      "metadata": {
        "id": "85qy0pLWIk1k",
        "colab_type": "code",
        "colab": {
          "base_uri": "https://localhost:8080/",
          "height": 394
        },
        "outputId": "0a96578d-e008-4dfc-d3e4-783032db8f52"
      },
      "source": [
        "happy.groupby(by='hotel_ID').count()"
      ],
      "execution_count": 26,
      "outputs": [
        {
          "output_type": "execute_result",
          "data": {
            "text/html": [
              "<div>\n",
              "<style scoped>\n",
              "    .dataframe tbody tr th:only-of-type {\n",
              "        vertical-align: middle;\n",
              "    }\n",
              "\n",
              "    .dataframe tbody tr th {\n",
              "        vertical-align: top;\n",
              "    }\n",
              "\n",
              "    .dataframe thead th {\n",
              "        text-align: right;\n",
              "    }\n",
              "</style>\n",
              "<table border=\"1\" class=\"dataframe\">\n",
              "  <thead>\n",
              "    <tr style=\"text-align: right;\">\n",
              "      <th></th>\n",
              "      <th>User_ID</th>\n",
              "      <th>Description</th>\n",
              "      <th>Is_Response</th>\n",
              "    </tr>\n",
              "    <tr>\n",
              "      <th>hotel_ID</th>\n",
              "      <th></th>\n",
              "      <th></th>\n",
              "      <th></th>\n",
              "    </tr>\n",
              "  </thead>\n",
              "  <tbody>\n",
              "    <tr>\n",
              "      <th>1</th>\n",
              "      <td>2179</td>\n",
              "      <td>2179</td>\n",
              "      <td>2179</td>\n",
              "    </tr>\n",
              "    <tr>\n",
              "      <th>2</th>\n",
              "      <td>1046</td>\n",
              "      <td>1046</td>\n",
              "      <td>1046</td>\n",
              "    </tr>\n",
              "    <tr>\n",
              "      <th>3</th>\n",
              "      <td>3470</td>\n",
              "      <td>3470</td>\n",
              "      <td>3470</td>\n",
              "    </tr>\n",
              "    <tr>\n",
              "      <th>4</th>\n",
              "      <td>4651</td>\n",
              "      <td>4651</td>\n",
              "      <td>4651</td>\n",
              "    </tr>\n",
              "    <tr>\n",
              "      <th>5</th>\n",
              "      <td>5540</td>\n",
              "      <td>5540</td>\n",
              "      <td>5540</td>\n",
              "    </tr>\n",
              "    <tr>\n",
              "      <th>6</th>\n",
              "      <td>823</td>\n",
              "      <td>823</td>\n",
              "      <td>823</td>\n",
              "    </tr>\n",
              "    <tr>\n",
              "      <th>7</th>\n",
              "      <td>3019</td>\n",
              "      <td>3019</td>\n",
              "      <td>3019</td>\n",
              "    </tr>\n",
              "    <tr>\n",
              "      <th>8</th>\n",
              "      <td>4503</td>\n",
              "      <td>4503</td>\n",
              "      <td>4503</td>\n",
              "    </tr>\n",
              "    <tr>\n",
              "      <th>9</th>\n",
              "      <td>513</td>\n",
              "      <td>513</td>\n",
              "      <td>513</td>\n",
              "    </tr>\n",
              "    <tr>\n",
              "      <th>10</th>\n",
              "      <td>777</td>\n",
              "      <td>777</td>\n",
              "      <td>777</td>\n",
              "    </tr>\n",
              "  </tbody>\n",
              "</table>\n",
              "</div>"
            ],
            "text/plain": [
              "          User_ID  Description  Is_Response\n",
              "hotel_ID                                   \n",
              "1            2179         2179         2179\n",
              "2            1046         1046         1046\n",
              "3            3470         3470         3470\n",
              "4            4651         4651         4651\n",
              "5            5540         5540         5540\n",
              "6             823          823          823\n",
              "7            3019         3019         3019\n",
              "8            4503         4503         4503\n",
              "9             513          513          513\n",
              "10            777          777          777"
            ]
          },
          "metadata": {
            "tags": []
          },
          "execution_count": 26
        }
      ]
    },
    {
      "cell_type": "code",
      "metadata": {
        "id": "o_7ehDo8JFAC",
        "colab_type": "code",
        "colab": {
          "base_uri": "https://localhost:8080/",
          "height": 394
        },
        "outputId": "7ac06e50-d97a-4384-9584-7265cb72bff5"
      },
      "source": [
        "sad.groupby(by='hotel_ID').count()"
      ],
      "execution_count": 27,
      "outputs": [
        {
          "output_type": "execute_result",
          "data": {
            "text/html": [
              "<div>\n",
              "<style scoped>\n",
              "    .dataframe tbody tr th:only-of-type {\n",
              "        vertical-align: middle;\n",
              "    }\n",
              "\n",
              "    .dataframe tbody tr th {\n",
              "        vertical-align: top;\n",
              "    }\n",
              "\n",
              "    .dataframe thead th {\n",
              "        text-align: right;\n",
              "    }\n",
              "</style>\n",
              "<table border=\"1\" class=\"dataframe\">\n",
              "  <thead>\n",
              "    <tr style=\"text-align: right;\">\n",
              "      <th></th>\n",
              "      <th>User_ID</th>\n",
              "      <th>Description</th>\n",
              "      <th>Is_Response</th>\n",
              "    </tr>\n",
              "    <tr>\n",
              "      <th>hotel_ID</th>\n",
              "      <th></th>\n",
              "      <th></th>\n",
              "      <th></th>\n",
              "    </tr>\n",
              "  </thead>\n",
              "  <tbody>\n",
              "    <tr>\n",
              "      <th>1</th>\n",
              "      <td>1750</td>\n",
              "      <td>1750</td>\n",
              "      <td>1750</td>\n",
              "    </tr>\n",
              "    <tr>\n",
              "      <th>2</th>\n",
              "      <td>1012</td>\n",
              "      <td>1012</td>\n",
              "      <td>1012</td>\n",
              "    </tr>\n",
              "    <tr>\n",
              "      <th>3</th>\n",
              "      <td>1612</td>\n",
              "      <td>1612</td>\n",
              "      <td>1612</td>\n",
              "    </tr>\n",
              "    <tr>\n",
              "      <th>4</th>\n",
              "      <td>2196</td>\n",
              "      <td>2196</td>\n",
              "      <td>2196</td>\n",
              "    </tr>\n",
              "    <tr>\n",
              "      <th>5</th>\n",
              "      <td>1142</td>\n",
              "      <td>1142</td>\n",
              "      <td>1142</td>\n",
              "    </tr>\n",
              "    <tr>\n",
              "      <th>6</th>\n",
              "      <td>334</td>\n",
              "      <td>334</td>\n",
              "      <td>334</td>\n",
              "    </tr>\n",
              "    <tr>\n",
              "      <th>7</th>\n",
              "      <td>2298</td>\n",
              "      <td>2298</td>\n",
              "      <td>2298</td>\n",
              "    </tr>\n",
              "    <tr>\n",
              "      <th>8</th>\n",
              "      <td>850</td>\n",
              "      <td>850</td>\n",
              "      <td>850</td>\n",
              "    </tr>\n",
              "    <tr>\n",
              "      <th>9</th>\n",
              "      <td>483</td>\n",
              "      <td>483</td>\n",
              "      <td>483</td>\n",
              "    </tr>\n",
              "    <tr>\n",
              "      <th>10</th>\n",
              "      <td>734</td>\n",
              "      <td>734</td>\n",
              "      <td>734</td>\n",
              "    </tr>\n",
              "  </tbody>\n",
              "</table>\n",
              "</div>"
            ],
            "text/plain": [
              "          User_ID  Description  Is_Response\n",
              "hotel_ID                                   \n",
              "1            1750         1750         1750\n",
              "2            1012         1012         1012\n",
              "3            1612         1612         1612\n",
              "4            2196         2196         2196\n",
              "5            1142         1142         1142\n",
              "6             334          334          334\n",
              "7            2298         2298         2298\n",
              "8             850          850          850\n",
              "9             483          483          483\n",
              "10            734          734          734"
            ]
          },
          "metadata": {
            "tags": []
          },
          "execution_count": 27
        }
      ]
    },
    {
      "cell_type": "markdown",
      "metadata": {
        "id": "rdUZQ_RQJgap",
        "colab_type": "text"
      },
      "source": [
        "##Tokenize"
      ]
    },
    {
      "cell_type": "code",
      "metadata": {
        "id": "IxsTgCWGPqOi",
        "colab_type": "code",
        "colab": {}
      },
      "source": [
        "def lemmatize_stemming(text):\n",
        "    stemmer=SnowballStemmer('english')\n",
        "    return stemmer.stem(WordNetLemmatizer().lemmatize(text, pos='v'))\n",
        "    \n",
        "def preprocess(text):\n",
        "    result = []\n",
        "    for token in gensim.utils.simple_preprocess(text):\n",
        "        if token not in gensim.parsing.preprocessing.STOPWORDS and len(token) > 3:\n",
        "            result.append(lemmatize_stemming(token))\n",
        "    return result"
      ],
      "execution_count": 0,
      "outputs": []
    },
    {
      "cell_type": "code",
      "metadata": {
        "id": "Orv3wnJzRUQ_",
        "colab_type": "code",
        "colab": {
          "base_uri": "https://localhost:8080/",
          "height": 147
        },
        "outputId": "5ff9cb6b-c05b-4a01-92bc-62d15224d580"
      },
      "source": [
        "example=happy['Description'][0]\n",
        "\n",
        "print('original document: ')\n",
        "words = []\n",
        "for word in example.split(' '):\n",
        "    words.append(word)\n",
        "print(words)\n",
        "print('\\n\\n tokenized and lemmatized document: ')\n",
        "print(preprocess(example))"
      ],
      "execution_count": 30,
      "outputs": [
        {
          "output_type": "stream",
          "text": [
            "original document: \n",
            "['Stayed', 'here', 'with', 'husband', 'and', 'sons', 'on', 'the', 'way', 'to', 'an', 'Alaska', 'Cruise.', 'We', 'all', 'loved', 'the', 'hotel,', 'great', 'experience.', 'Ask', 'for', 'a', 'room', 'on', 'the', 'North', 'tower,', 'facing', 'north', 'west', 'for', 'the', 'best', 'views.', 'We', 'had', 'a', 'high', 'floor,', 'with', 'a', 'stunning', 'view', 'of', 'the', 'needle,', 'the', 'city,', 'and', 'even', 'the', 'cruise', 'ships!', 'We', 'ordered', 'room', 'service', 'for', 'dinner', 'so', 'we', 'could', 'enjoy', 'the', 'perfect', 'views.', 'Room', 'service', 'dinners', 'were', 'delicious,', 'too!', 'You', 'are', 'in', 'a', 'perfect', 'spot', 'to', 'walk', 'everywhere,', 'so', 'enjoy', 'the', 'city.', 'Almost', 'forgot-', 'Heavenly', 'beds', 'were', 'heavenly,', 'too!']\n",
            "\n",
            "\n",
            " tokenized and lemmatized document: \n",
            "['stay', 'husband', 'son', 'alaska', 'cruis', 'love', 'hotel', 'great', 'experi', 'room', 'north', 'tower', 'face', 'north', 'west', 'best', 'view', 'high', 'floor', 'stun', 'view', 'needl', 'citi', 'cruis', 'ship', 'order', 'room', 'servic', 'dinner', 'enjoy', 'perfect', 'view', 'room', 'servic', 'dinner', 'delici', 'perfect', 'spot', 'walk', 'enjoy', 'citi', 'forget', 'heaven', 'bed', 'heaven']\n"
          ],
          "name": "stdout"
        }
      ]
    },
    {
      "cell_type": "code",
      "metadata": {
        "id": "93IxmdjEVbtp",
        "colab_type": "code",
        "colab": {}
      },
      "source": [
        "h_tokens= happy['Description'].map(preprocess)\n",
        "s_tokens= sad['Description'].map(preprocess)"
      ],
      "execution_count": 0,
      "outputs": []
    },
    {
      "cell_type": "code",
      "metadata": {
        "id": "5-Ftf0VnZHaW",
        "colab_type": "code",
        "colab": {
          "base_uri": "https://localhost:8080/",
          "height": 127
        },
        "outputId": "f6165a60-d88e-4880-df50-77b1256db277"
      },
      "source": [
        "h_tokens[:5]"
      ],
      "execution_count": 7,
      "outputs": [
        {
          "output_type": "execute_result",
          "data": {
            "text/plain": [
              "0    [stay, husband, son, alaska, cruis, love, hote...\n",
              "1    [room, nice, clear, updat, recent, clean, comf...\n",
              "2    [wife, stay, glorious, citi, expens, littl, ho...\n",
              "3    [boyfriend, stay, fairmont, recent, trip, fran...\n",
              "4    [step, time, squar, nice, room, stay, night, g...\n",
              "Name: Description, dtype: object"
            ]
          },
          "metadata": {
            "tags": []
          },
          "execution_count": 7
        }
      ]
    },
    {
      "cell_type": "markdown",
      "metadata": {
        "id": "rC2DnJugbMHn",
        "colab_type": "text"
      },
      "source": [
        "##Make a Dictionary"
      ]
    },
    {
      "cell_type": "code",
      "metadata": {
        "id": "CXCy3J8DZO7s",
        "colab_type": "code",
        "colab": {
          "base_uri": "https://localhost:8080/",
          "height": 219
        },
        "outputId": "138d6d77-f37e-4bf3-f180-515f5b3d8320"
      },
      "source": [
        "all_tokens= h_tokens.append(s_tokens, ignore_index=True)\n",
        "dictionary = gensim.corpora.Dictionary(all_tokens)\n",
        "\n",
        "count = 0\n",
        "for k, v in dictionary.iteritems():\n",
        "    print(k, v)\n",
        "    count += 1\n",
        "    if count > 10:\n",
        "        break"
      ],
      "execution_count": 32,
      "outputs": [
        {
          "output_type": "stream",
          "text": [
            "0 alaska\n",
            "1 bed\n",
            "2 best\n",
            "3 citi\n",
            "4 cruis\n",
            "5 delici\n",
            "6 dinner\n",
            "7 enjoy\n",
            "8 experi\n",
            "9 face\n",
            "10 floor\n"
          ],
          "name": "stdout"
        }
      ]
    },
    {
      "cell_type": "code",
      "metadata": {
        "id": "Po6LAXc7Z3w0",
        "colab_type": "code",
        "colab": {
          "base_uri": "https://localhost:8080/",
          "height": 35
        },
        "outputId": "21760436-0424-4906-856d-0f96934b10eb"
      },
      "source": [
        "dictionary.filter_extremes(no_below=15, no_above=0.5, keep_n=10000)\n",
        "len(dictionary)"
      ],
      "execution_count": 33,
      "outputs": [
        {
          "output_type": "execute_result",
          "data": {
            "text/plain": [
              "5276"
            ]
          },
          "metadata": {
            "tags": []
          },
          "execution_count": 33
        }
      ]
    },
    {
      "cell_type": "code",
      "metadata": {
        "id": "bLrgmITEbuWd",
        "colab_type": "code",
        "colab": {
          "base_uri": "https://localhost:8080/",
          "height": 1000
        },
        "outputId": "85b46f06-1605-475e-ad98-6389f45984a3"
      },
      "source": [
        "bow_corpus = [dictionary.doc2bow(doc) for doc in all_tokens]\n",
        "bow_doc_4310 = bow_corpus[4310]\n",
        "\n",
        "for i in range(len(bow_doc_4310)):\n",
        "    print(\"Word {} (\\\"{}\\\") appears {} time(s).\".format(bow_doc_4310[i][0], \n",
        "                                               dictionary[bow_doc_4310[i][0]], \n",
        "                                               bow_doc_4310[i][1]))"
      ],
      "execution_count": 34,
      "outputs": [
        {
          "output_type": "stream",
          "text": [
            "Word 3 (\"citi\") appears 1 time(s).\n",
            "Word 12 (\"great\") appears 2 time(s).\n",
            "Word 16 (\"love\") appears 1 time(s).\n",
            "Word 30 (\"breakfast\") appears 1 time(s).\n",
            "Word 36 (\"exampl\") appears 1 time(s).\n",
            "Word 43 (\"locat\") appears 1 time(s).\n",
            "Word 45 (\"morn\") appears 1 time(s).\n",
            "Word 47 (\"nice\") appears 2 time(s).\n",
            "Word 49 (\"point\") appears 2 time(s).\n",
            "Word 57 (\"visit\") appears 1 time(s).\n",
            "Word 63 (\"appoint\") appears 1 time(s).\n",
            "Word 64 (\"beat\") appears 1 time(s).\n",
            "Word 68 (\"corner\") appears 1 time(s).\n",
            "Word 86 (\"overal\") appears 2 time(s).\n",
            "Word 87 (\"particular\") appears 1 time(s).\n",
            "Word 88 (\"place\") appears 1 time(s).\n",
            "Word 99 (\"restaur\") appears 1 time(s).\n",
            "Word 104 (\"staff\") appears 1 time(s).\n",
            "Word 106 (\"super\") appears 1 time(s).\n",
            "Word 109 (\"thing\") appears 2 time(s).\n",
            "Word 121 (\"definit\") appears 1 time(s).\n",
            "Word 133 (\"life\") appears 1 time(s).\n",
            "Word 136 (\"night\") appears 1 time(s).\n",
            "Word 140 (\"trip\") appears 2 time(s).\n",
            "Word 144 (\"squar\") appears 1 time(s).\n",
            "Word 150 (\"begin\") appears 1 time(s).\n",
            "Word 164 (\"comfort\") appears 1 time(s).\n",
            "Word 172 (\"like\") appears 1 time(s).\n",
            "Word 173 (\"neighborhood\") appears 1 time(s).\n",
            "Word 257 (\"slight\") appears 1 time(s).\n",
            "Word 311 (\"relax\") appears 1 time(s).\n",
            "Word 324 (\"complet\") appears 1 time(s).\n",
            "Word 331 (\"friend\") appears 1 time(s).\n",
            "Word 335 (\"king\") appears 1 time(s).\n",
            "Word 345 (\"quiet\") appears 1 time(s).\n",
            "Word 353 (\"upgrad\") appears 1 time(s).\n",
            "Word 401 (\"consid\") appears 1 time(s).\n",
            "Word 440 (\"total\") appears 1 time(s).\n",
            "Word 454 (\"bathroom\") appears 1 time(s).\n",
            "Word 462 (\"come\") appears 1 time(s).\n",
            "Word 488 (\"pike\") appears 1 time(s).\n",
            "Word 491 (\"pioneer\") appears 1 time(s).\n",
            "Word 496 (\"review\") appears 1 time(s).\n",
            "Word 497 (\"seattl\") appears 4 time(s).\n",
            "Word 567 (\"club\") appears 3 time(s).\n",
            "Word 583 (\"actual\") appears 1 time(s).\n",
            "Word 649 (\"negat\") appears 1 time(s).\n",
            "Word 650 (\"note\") appears 1 time(s).\n",
            "Word 656 (\"properti\") appears 2 time(s).\n",
            "Word 870 (\"happen\") appears 1 time(s).\n",
            "Word 871 (\"histor\") appears 2 time(s).\n",
            "Word 956 (\"near\") appears 2 time(s).\n",
            "Word 1202 (\"turn\") appears 1 time(s).\n",
            "Word 1220 (\"futur\") appears 1 time(s).\n",
            "Word 1221 (\"histori\") appears 1 time(s).\n",
            "Word 1250 (\"closest\") appears 1 time(s).\n",
            "Word 1269 (\"addit\") appears 1 time(s).\n",
            "Word 1297 (\"term\") appears 1 time(s).\n",
            "Word 1409 (\"whirlpool\") appears 1 time(s).\n",
            "Word 1748 (\"theme\") appears 1 time(s).\n",
            "Word 2286 (\"prime\") appears 1 time(s).\n",
            "Word 2386 (\"centuri\") appears 1 time(s).\n",
            "Word 2447 (\"gentleman\") appears 1 time(s).\n",
            "Word 2530 (\"partner\") appears 1 time(s).\n",
            "Word 2665 (\"busier\") appears 1 time(s).\n",
            "Word 2986 (\"path\") appears 1 time(s).\n",
            "Word 3576 (\"yeah\") appears 1 time(s).\n",
            "Word 4965 (\"contribut\") appears 1 time(s).\n"
          ],
          "name": "stdout"
        }
      ]
    },
    {
      "cell_type": "markdown",
      "metadata": {
        "id": "M_BWYXlEua-K",
        "colab_type": "text"
      },
      "source": [
        "##TF-IDF model"
      ]
    },
    {
      "cell_type": "code",
      "metadata": {
        "id": "7UxLok7auR33",
        "colab_type": "code",
        "colab": {
          "base_uri": "https://localhost:8080/",
          "height": 568
        },
        "outputId": "72635268-ace3-47bf-fd07-3d4a820f8d12"
      },
      "source": [
        "from gensim import corpora, models\n",
        "\n",
        "tfidf = models.TfidfModel(bow_corpus)\n",
        "corpus_tfidf = tfidf[bow_corpus]\n",
        "\n",
        "from pprint import pprint\n",
        "\n",
        "for doc in corpus_tfidf:\n",
        "    pprint(doc)\n",
        "    break"
      ],
      "execution_count": 35,
      "outputs": [
        {
          "output_type": "stream",
          "text": [
            "[(0, 0.2747288082182781),\n",
            " (1, 0.07759014590421173),\n",
            " (2, 0.08367769735918709),\n",
            " (3, 0.15968352995252144),\n",
            " (4, 0.36264303615001425),\n",
            " (5, 0.15029940317228596),\n",
            " (6, 0.22644881194311037),\n",
            " (7, 0.17330100720626096),\n",
            " (8, 0.08389128380766621),\n",
            " (9, 0.12895172789451026),\n",
            " (10, 0.0657737508986002),\n",
            " (11, 0.1505335185487157),\n",
            " (12, 0.033193820603874574),\n",
            " (13, 0.3725164072492472),\n",
            " (14, 0.08593098017538799),\n",
            " (15, 0.1113669454826141),\n",
            " (16, 0.07578698048007249),\n",
            " (17, 0.17096618962710844),\n",
            " (18, 0.30442544119783826),\n",
            " (19, 0.12175206567449688),\n",
            " (20, 0.1785075126212202),\n",
            " (21, 0.09746473124828),\n",
            " (22, 0.2013292223891779),\n",
            " (23, 0.2454035193357556),\n",
            " (24, 0.13734136483950413),\n",
            " (25, 0.2008172231264116),\n",
            " (26, 0.15191969639533337),\n",
            " (27, 0.21355601362347656),\n",
            " (28, 0.04902672689265774),\n",
            " (29, 0.15940283057454852)]\n"
          ],
          "name": "stdout"
        }
      ]
    },
    {
      "cell_type": "markdown",
      "metadata": {
        "id": "9Io2bED66Upk",
        "colab_type": "text"
      },
      "source": [
        "##Train LDA with Bag of Words"
      ]
    },
    {
      "cell_type": "code",
      "metadata": {
        "id": "dGB-7ngCttnY",
        "colab_type": "code",
        "colab": {}
      },
      "source": [
        "lda_model = gensim.models.LdaMulticore(bow_corpus, \n",
        "                                       num_topics=20, \n",
        "                                       id2word=dictionary, \n",
        "                                       passes=2, \n",
        "                                       workers=2)"
      ],
      "execution_count": 0,
      "outputs": []
    },
    {
      "cell_type": "code",
      "metadata": {
        "id": "7btsAMnk6_xA",
        "colab_type": "code",
        "colab": {
          "base_uri": "https://localhost:8080/",
          "height": 772
        },
        "outputId": "a168b46c-64de-4256-83e6-a860fb8d577f"
      },
      "source": [
        "for idx, topic in lda_model.print_topics(-1):\n",
        "    print('Topic: {} \\nWords: {}'.format(idx, topic))"
      ],
      "execution_count": 43,
      "outputs": [
        {
          "output_type": "stream",
          "text": [
            "Topic: 0 \n",
            "Words: 0.016*\"tell\" + 0.014*\"night\" + 0.012*\"check\" + 0.011*\"desk\" + 0.011*\"say\" + 0.011*\"go\" + 0.010*\"time\" + 0.010*\"call\" + 0.010*\"book\" + 0.009*\"ask\"\n",
            "Topic: 1 \n",
            "Words: 0.014*\"floor\" + 0.013*\"elev\" + 0.012*\"check\" + 0.010*\"like\" + 0.010*\"servic\" + 0.010*\"night\" + 0.010*\"time\" + 0.008*\"desk\" + 0.007*\"guest\" + 0.007*\"take\"\n",
            "Topic: 2 \n",
            "Words: 0.062*\"nice\" + 0.017*\"clean\" + 0.016*\"staff\" + 0.013*\"good\" + 0.013*\"great\" + 0.012*\"busi\" + 0.010*\"time\" + 0.010*\"locat\" + 0.010*\"night\" + 0.009*\"place\"\n",
            "Topic: 3 \n",
            "Words: 0.029*\"great\" + 0.019*\"locat\" + 0.017*\"view\" + 0.015*\"staff\" + 0.013*\"comfort\" + 0.012*\"friend\" + 0.011*\"nice\" + 0.011*\"servic\" + 0.010*\"love\" + 0.009*\"good\"\n",
            "Topic: 4 \n",
            "Words: 0.019*\"nois\" + 0.015*\"night\" + 0.012*\"breakfast\" + 0.011*\"motel\" + 0.010*\"place\" + 0.010*\"locat\" + 0.010*\"staff\" + 0.009*\"clean\" + 0.009*\"morn\" + 0.008*\"floor\"\n",
            "Topic: 5 \n",
            "Words: 0.037*\"pool\" + 0.011*\"kid\" + 0.011*\"great\" + 0.010*\"area\" + 0.009*\"resort\" + 0.009*\"night\" + 0.009*\"hilton\" + 0.009*\"like\" + 0.008*\"time\" + 0.008*\"servic\"\n",
            "Topic: 6 \n",
            "Words: 0.023*\"great\" + 0.018*\"night\" + 0.016*\"locat\" + 0.011*\"walk\" + 0.010*\"good\" + 0.010*\"floor\" + 0.009*\"staff\" + 0.009*\"like\" + 0.009*\"littl\" + 0.008*\"look\"\n",
            "Topic: 7 \n",
            "Words: 0.025*\"check\" + 0.011*\"desk\" + 0.010*\"clean\" + 0.010*\"staff\" + 0.010*\"servic\" + 0.010*\"night\" + 0.009*\"arriv\" + 0.009*\"great\" + 0.007*\"time\" + 0.006*\"breakfast\"\n",
            "Topic: 8 \n",
            "Words: 0.043*\"park\" + 0.022*\"night\" + 0.018*\"street\" + 0.016*\"locat\" + 0.010*\"nice\" + 0.010*\"good\" + 0.010*\"walk\" + 0.008*\"wharf\" + 0.008*\"great\" + 0.007*\"garag\"\n",
            "Topic: 9 \n",
            "Words: 0.031*\"staff\" + 0.024*\"servic\" + 0.017*\"great\" + 0.012*\"love\" + 0.011*\"help\" + 0.010*\"time\" + 0.009*\"friend\" + 0.008*\"thank\" + 0.007*\"food\" + 0.007*\"wonder\"\n",
            "Topic: 10 \n",
            "Words: 0.029*\"breakfast\" + 0.020*\"free\" + 0.020*\"good\" + 0.017*\"area\" + 0.016*\"nice\" + 0.015*\"clean\" + 0.010*\"night\" + 0.009*\"pool\" + 0.009*\"locat\" + 0.008*\"staff\"\n",
            "Topic: 11 \n",
            "Words: 0.024*\"breakfast\" + 0.019*\"coffe\" + 0.016*\"good\" + 0.013*\"locat\" + 0.012*\"walk\" + 0.011*\"night\" + 0.007*\"price\" + 0.007*\"restaur\" + 0.007*\"servic\" + 0.006*\"clean\"\n",
            "Topic: 12 \n",
            "Words: 0.019*\"bathroom\" + 0.011*\"like\" + 0.011*\"night\" + 0.011*\"door\" + 0.011*\"wall\" + 0.011*\"look\" + 0.010*\"shower\" + 0.010*\"good\" + 0.009*\"small\" + 0.009*\"clean\"\n",
            "Topic: 13 \n",
            "Words: 0.021*\"time\" + 0.017*\"great\" + 0.016*\"staff\" + 0.015*\"love\" + 0.015*\"locat\" + 0.013*\"walk\" + 0.013*\"help\" + 0.011*\"squar\" + 0.010*\"trip\" + 0.009*\"friend\"\n",
            "Topic: 14 \n",
            "Words: 0.015*\"staff\" + 0.013*\"great\" + 0.012*\"manag\" + 0.011*\"like\" + 0.010*\"go\" + 0.010*\"night\" + 0.009*\"look\" + 0.009*\"review\" + 0.008*\"servic\" + 0.008*\"book\"\n",
            "Topic: 15 \n",
            "Words: 0.034*\"park\" + 0.025*\"walk\" + 0.019*\"great\" + 0.013*\"valet\" + 0.012*\"block\" + 0.011*\"night\" + 0.010*\"locat\" + 0.010*\"staff\" + 0.009*\"good\" + 0.009*\"citi\"\n",
            "Topic: 16 \n",
            "Words: 0.017*\"airport\" + 0.015*\"shuttl\" + 0.012*\"good\" + 0.010*\"free\" + 0.010*\"night\" + 0.009*\"servic\" + 0.009*\"walk\" + 0.009*\"center\" + 0.008*\"staff\" + 0.008*\"locat\"\n",
            "Topic: 17 \n",
            "Words: 0.027*\"time\" + 0.022*\"good\" + 0.022*\"locat\" + 0.017*\"clean\" + 0.017*\"staff\" + 0.015*\"squar\" + 0.014*\"place\" + 0.012*\"great\" + 0.010*\"small\" + 0.010*\"price\"\n",
            "Topic: 18 \n",
            "Words: 0.035*\"locat\" + 0.031*\"great\" + 0.024*\"walk\" + 0.020*\"clean\" + 0.017*\"staff\" + 0.017*\"restaur\" + 0.014*\"friend\" + 0.012*\"nice\" + 0.011*\"distanc\" + 0.011*\"boston\"\n",
            "Topic: 19 \n",
            "Words: 0.016*\"area\" + 0.011*\"restaur\" + 0.010*\"nice\" + 0.007*\"food\" + 0.007*\"larg\" + 0.007*\"walk\" + 0.007*\"like\" + 0.007*\"minut\" + 0.006*\"floor\" + 0.006*\"good\"\n"
          ],
          "name": "stdout"
        }
      ]
    },
    {
      "cell_type": "markdown",
      "metadata": {
        "id": "wQxPL910-t2R",
        "colab_type": "text"
      },
      "source": [
        "##Train LDA with TF-IDF"
      ]
    },
    {
      "cell_type": "code",
      "metadata": {
        "id": "hrG85L6L-x_e",
        "colab_type": "code",
        "colab": {
          "base_uri": "https://localhost:8080/",
          "height": 404
        },
        "outputId": "9cf20c4e-5a4a-4e79-94f4-2796883a2bf0"
      },
      "source": [
        "lda_model_tfidf = gensim.models.LdaMulticore(corpus_tfidf, \n",
        "                                             num_topics=20, \n",
        "                                             id2word=dictionary, \n",
        "                                             passes=2, \n",
        "                                             workers=4)\n",
        "\n",
        "for idx, topic in lda_model_tfidf.print_topics(-1):\n",
        "    print('Topic: {} Word: {}'.format(idx, topic))"
      ],
      "execution_count": 44,
      "outputs": [
        {
          "output_type": "stream",
          "text": [
            "Topic: 0 Word: 0.006*\"great\" + 0.005*\"nice\" + 0.005*\"staff\" + 0.005*\"locat\" + 0.005*\"friend\" + 0.004*\"clean\" + 0.004*\"definit\" + 0.004*\"help\" + 0.004*\"time\" + 0.004*\"good\"\n",
            "Topic: 1 Word: 0.004*\"great\" + 0.004*\"breakfast\" + 0.004*\"good\" + 0.004*\"nice\" + 0.003*\"servic\" + 0.003*\"staff\" + 0.003*\"park\" + 0.003*\"locat\" + 0.003*\"friend\" + 0.003*\"time\"\n",
            "Topic: 2 Word: 0.005*\"good\" + 0.005*\"great\" + 0.004*\"clean\" + 0.004*\"nice\" + 0.004*\"locat\" + 0.004*\"friend\" + 0.004*\"staff\" + 0.004*\"comfort\" + 0.004*\"time\" + 0.004*\"night\"\n",
            "Topic: 3 Word: 0.004*\"great\" + 0.004*\"servic\" + 0.004*\"airport\" + 0.004*\"nice\" + 0.004*\"good\" + 0.004*\"night\" + 0.003*\"locat\" + 0.003*\"staff\" + 0.003*\"clean\" + 0.003*\"place\"\n",
            "Topic: 4 Word: 0.006*\"vacuum\" + 0.005*\"great\" + 0.004*\"good\" + 0.004*\"nice\" + 0.004*\"clean\" + 0.004*\"staff\" + 0.004*\"friend\" + 0.004*\"help\" + 0.003*\"locat\" + 0.003*\"place\"\n",
            "Topic: 5 Word: 0.004*\"great\" + 0.004*\"good\" + 0.004*\"walk\" + 0.004*\"nice\" + 0.004*\"night\" + 0.004*\"park\" + 0.003*\"locat\" + 0.003*\"clean\" + 0.003*\"time\" + 0.003*\"place\"\n",
            "Topic: 6 Word: 0.006*\"great\" + 0.005*\"nice\" + 0.004*\"riverwalk\" + 0.004*\"friend\" + 0.004*\"locat\" + 0.004*\"walk\" + 0.004*\"staff\" + 0.004*\"clean\" + 0.004*\"good\" + 0.004*\"place\"\n",
            "Topic: 7 Word: 0.006*\"great\" + 0.005*\"locat\" + 0.005*\"friend\" + 0.004*\"staff\" + 0.004*\"servic\" + 0.004*\"good\" + 0.004*\"clean\" + 0.004*\"help\" + 0.004*\"excel\" + 0.004*\"nice\"\n",
            "Topic: 8 Word: 0.004*\"dirti\" + 0.004*\"night\" + 0.003*\"like\" + 0.003*\"check\" + 0.003*\"desk\" + 0.003*\"bathroom\" + 0.003*\"look\" + 0.003*\"smell\" + 0.003*\"floor\" + 0.003*\"tell\"\n",
            "Topic: 9 Word: 0.006*\"great\" + 0.006*\"good\" + 0.005*\"nice\" + 0.005*\"locat\" + 0.005*\"breakfast\" + 0.005*\"clean\" + 0.004*\"friend\" + 0.004*\"staff\" + 0.004*\"austin\" + 0.004*\"area\"\n",
            "Topic: 10 Word: 0.006*\"great\" + 0.005*\"servic\" + 0.005*\"staff\" + 0.005*\"friend\" + 0.004*\"help\" + 0.004*\"excel\" + 0.004*\"locat\" + 0.004*\"recommend\" + 0.004*\"wonder\" + 0.004*\"nice\"\n",
            "Topic: 11 Word: 0.003*\"check\" + 0.003*\"servic\" + 0.003*\"night\" + 0.003*\"great\" + 0.003*\"good\" + 0.003*\"time\" + 0.003*\"nice\" + 0.003*\"park\" + 0.003*\"desk\" + 0.003*\"go\"\n",
            "Topic: 12 Word: 0.007*\"breakfast\" + 0.005*\"great\" + 0.004*\"clean\" + 0.004*\"good\" + 0.004*\"cereal\" + 0.004*\"coffe\" + 0.004*\"friend\" + 0.004*\"nice\" + 0.004*\"egg\" + 0.004*\"fruit\"\n",
            "Topic: 13 Word: 0.004*\"great\" + 0.004*\"good\" + 0.004*\"breakfast\" + 0.004*\"free\" + 0.004*\"park\" + 0.004*\"walk\" + 0.004*\"night\" + 0.003*\"nice\" + 0.003*\"airport\" + 0.003*\"clean\"\n",
            "Topic: 14 Word: 0.006*\"great\" + 0.004*\"locat\" + 0.004*\"good\" + 0.004*\"time\" + 0.004*\"staff\" + 0.004*\"friend\" + 0.004*\"clean\" + 0.004*\"nice\" + 0.004*\"breakfast\" + 0.004*\"walk\"\n",
            "Topic: 15 Word: 0.004*\"check\" + 0.004*\"tell\" + 0.004*\"night\" + 0.004*\"desk\" + 0.003*\"door\" + 0.003*\"time\" + 0.003*\"servic\" + 0.003*\"say\" + 0.003*\"floor\" + 0.003*\"go\"\n",
            "Topic: 16 Word: 0.005*\"great\" + 0.004*\"locat\" + 0.004*\"nice\" + 0.004*\"walk\" + 0.004*\"good\" + 0.004*\"park\" + 0.004*\"small\" + 0.004*\"clean\" + 0.004*\"staff\" + 0.003*\"view\"\n",
            "Topic: 17 Word: 0.004*\"good\" + 0.004*\"nice\" + 0.003*\"breakfast\" + 0.003*\"servic\" + 0.003*\"area\" + 0.003*\"small\" + 0.003*\"bathroom\" + 0.003*\"clean\" + 0.003*\"night\" + 0.003*\"place\"\n",
            "Topic: 18 Word: 0.004*\"night\" + 0.004*\"park\" + 0.004*\"good\" + 0.003*\"time\" + 0.003*\"nice\" + 0.003*\"small\" + 0.003*\"like\" + 0.003*\"price\" + 0.003*\"check\" + 0.003*\"bathroom\"\n",
            "Topic: 19 Word: 0.006*\"great\" + 0.005*\"nice\" + 0.005*\"good\" + 0.005*\"locat\" + 0.004*\"clean\" + 0.004*\"restaur\" + 0.004*\"staff\" + 0.004*\"night\" + 0.004*\"walk\" + 0.004*\"help\"\n"
          ],
          "name": "stdout"
        }
      ]
    },
    {
      "cell_type": "markdown",
      "metadata": {
        "id": "5CHHza-S7mY-",
        "colab_type": "text"
      },
      "source": [
        "##Evaluate"
      ]
    },
    {
      "cell_type": "code",
      "metadata": {
        "id": "-_M6NFfuecUZ",
        "colab_type": "code",
        "colab": {
          "base_uri": "https://localhost:8080/",
          "height": 55
        },
        "outputId": "9ef39f29-db56-4a41-dd9d-162f31945e14"
      },
      "source": [
        "alldf['Description'].iloc[4310]"
      ],
      "execution_count": 59,
      "outputs": [
        {
          "output_type": "execute_result",
          "data": {
            "text/plain": [
              "\"My partner and I just completed a two-night stay at the Arctic Club, during our first-ever trip to Seattle. I can't say enough great things about this property. Not only does it have history in spades (it began its life as a turn-of-the-twentieth-century gentleman's club), but the super-friendly staff and prime Seattle location near historic Pioneer Square make it a must-consider hotel.\\nThe rooms, as noted by other reviewers, are very nicely appointed and pay off the overall historic theme-credibility. We stayed on points, but were upgraded to a corner king with whirlpool. The room overall was very comfortable -- great bed and bathroom, in particular.\\nIn addition to the points above, the hotel also has a very nice restaurant, Juno, which we visited both mornings for breakfast.\\nThe closest thing to a negative about this property is that it's slightly off the beaten path in terms of other busier-more happening Seattle neighborhoods (around-near Pike Place, for example). But we actually liked that because it contributed to a quiet, relaxing stay. We will definitely be coming back to the Arctic Club on future trips to Seattle (oh yeah -- we totally loved the city, too!).\""
            ]
          },
          "metadata": {
            "tags": []
          },
          "execution_count": 59
        }
      ]
    },
    {
      "cell_type": "code",
      "metadata": {
        "id": "Oh3-HtGD7lyK",
        "colab_type": "code",
        "colab": {
          "base_uri": "https://localhost:8080/",
          "height": 313
        },
        "outputId": "aeac2476-399e-48ab-e617-a02494094389"
      },
      "source": [
        "for index, score in sorted(lda_model[bow_corpus[4310]], key=lambda tup: -1*tup[1]):\n",
        "    print(\"\\nScore: {}\\t \\nTopic: {}\".format(score, lda_model.print_topic(index, 10)))"
      ],
      "execution_count": 45,
      "outputs": [
        {
          "output_type": "stream",
          "text": [
            "\n",
            "Score: 0.3738083839416504\t \n",
            "Topic: 0.014*\"floor\" + 0.013*\"elev\" + 0.012*\"check\" + 0.010*\"like\" + 0.010*\"servic\" + 0.010*\"night\" + 0.010*\"time\" + 0.008*\"desk\" + 0.007*\"guest\" + 0.007*\"take\"\n",
            "\n",
            "Score: 0.34785985946655273\t \n",
            "Topic: 0.029*\"great\" + 0.019*\"locat\" + 0.017*\"view\" + 0.015*\"staff\" + 0.013*\"comfort\" + 0.012*\"friend\" + 0.011*\"nice\" + 0.011*\"servic\" + 0.010*\"love\" + 0.009*\"good\"\n",
            "\n",
            "Score: 0.1294252574443817\t \n",
            "Topic: 0.035*\"locat\" + 0.031*\"great\" + 0.024*\"walk\" + 0.020*\"clean\" + 0.017*\"staff\" + 0.017*\"restaur\" + 0.014*\"friend\" + 0.012*\"nice\" + 0.011*\"distanc\" + 0.011*\"boston\"\n",
            "\n",
            "Score: 0.10359007865190506\t \n",
            "Topic: 0.027*\"time\" + 0.022*\"good\" + 0.022*\"locat\" + 0.017*\"clean\" + 0.017*\"staff\" + 0.015*\"squar\" + 0.014*\"place\" + 0.012*\"great\" + 0.010*\"small\" + 0.010*\"price\"\n",
            "\n",
            "Score: 0.036280307918787\t \n",
            "Topic: 0.062*\"nice\" + 0.017*\"clean\" + 0.016*\"staff\" + 0.013*\"good\" + 0.013*\"great\" + 0.012*\"busi\" + 0.010*\"time\" + 0.010*\"locat\" + 0.010*\"night\" + 0.009*\"place\"\n"
          ],
          "name": "stdout"
        }
      ]
    },
    {
      "cell_type": "code",
      "metadata": {
        "id": "Q1m2XLle8s9N",
        "colab_type": "code",
        "colab": {
          "base_uri": "https://localhost:8080/",
          "height": 313
        },
        "outputId": "899663e0-996c-4207-8124-8f6c2deb7f37"
      },
      "source": [
        "for index, score in sorted(lda_model_tfidf[bow_corpus[4310]], key=lambda tup: -1*tup[1]):\n",
        "    print(\"\\nScore: {}\\t \\nTopic: {}\".format(score, lda_model_tfidf.print_topic(index, 10)))"
      ],
      "execution_count": 46,
      "outputs": [
        {
          "output_type": "stream",
          "text": [
            "\n",
            "Score: 0.598986029624939\t \n",
            "Topic: 0.006*\"great\" + 0.005*\"nice\" + 0.004*\"riverwalk\" + 0.004*\"friend\" + 0.004*\"locat\" + 0.004*\"walk\" + 0.004*\"staff\" + 0.004*\"clean\" + 0.004*\"good\" + 0.004*\"place\"\n",
            "\n",
            "Score: 0.155191570520401\t \n",
            "Topic: 0.005*\"great\" + 0.004*\"locat\" + 0.004*\"nice\" + 0.004*\"walk\" + 0.004*\"good\" + 0.004*\"park\" + 0.004*\"small\" + 0.004*\"clean\" + 0.004*\"staff\" + 0.003*\"view\"\n",
            "\n",
            "Score: 0.1328134983778\t \n",
            "Topic: 0.004*\"check\" + 0.004*\"tell\" + 0.004*\"night\" + 0.004*\"desk\" + 0.003*\"door\" + 0.003*\"time\" + 0.003*\"servic\" + 0.003*\"say\" + 0.003*\"floor\" + 0.003*\"go\"\n",
            "\n",
            "Score: 0.08220697939395905\t \n",
            "Topic: 0.004*\"great\" + 0.004*\"good\" + 0.004*\"walk\" + 0.004*\"nice\" + 0.004*\"night\" + 0.004*\"park\" + 0.003*\"locat\" + 0.003*\"clean\" + 0.003*\"time\" + 0.003*\"place\"\n",
            "\n",
            "Score: 0.02176574058830738\t \n",
            "Topic: 0.003*\"check\" + 0.003*\"servic\" + 0.003*\"night\" + 0.003*\"great\" + 0.003*\"good\" + 0.003*\"time\" + 0.003*\"nice\" + 0.003*\"park\" + 0.003*\"desk\" + 0.003*\"go\"\n"
          ],
          "name": "stdout"
        }
      ]
    },
    {
      "cell_type": "code",
      "metadata": {
        "id": "lG5TlvvbfUUj",
        "colab_type": "code",
        "colab": {
          "base_uri": "https://localhost:8080/",
          "height": 55
        },
        "outputId": "cc0493dc-aa4d-4a22-ceae-c51f5f3de848"
      },
      "source": [
        "alldf['Description'].iloc[38900]"
      ],
      "execution_count": 62,
      "outputs": [
        {
          "output_type": "execute_result",
          "data": {
            "text/plain": [
              "\"I suspect that this place is being used for frequent prostitution. We arrived at after --am and were exhausted, once we got to our room we saw that it was bare. Nothing like the pictures. There was only a t.v., bed, lamp, mini frige, table and chair. It was so empty and had a very strange vibe. The sheets were a whole other story, The comforter had menstrual stains, as did the sheets,and the blanket was full of holes and cigarette burns as well as HAIR and various other stains( I suspect they were bodily fluid stains).So,well passed midnight, we to walgreens to get -x- blanket throws to sleep on. We only slept a few hours. It was gross....For the health of yourself and your loved ones, please don't stay here!!!!!!!\""
            ]
          },
          "metadata": {
            "tags": []
          },
          "execution_count": 62
        }
      ]
    },
    {
      "cell_type": "code",
      "metadata": {
        "id": "ARYqdELWftEU",
        "colab_type": "code",
        "colab": {
          "base_uri": "https://localhost:8080/",
          "height": 202
        },
        "outputId": "f2cef931-4aed-4ee5-e53d-d032aba84f37"
      },
      "source": [
        "all_tokens[38900]\n",
        "for index, score in sorted(lda_model[bow_corpus[38900]], key=lambda tup: -1*tup[1]):\n",
        "    print(\"\\nScore: {}\\t \\nTopic: {}\".format(score, lda_model.print_topic(index, 10)))"
      ],
      "execution_count": 63,
      "outputs": [
        {
          "output_type": "stream",
          "text": [
            "\n",
            "Score: 0.6807960867881775\t \n",
            "Topic: 0.019*\"bathroom\" + 0.011*\"like\" + 0.011*\"night\" + 0.011*\"door\" + 0.011*\"wall\" + 0.011*\"look\" + 0.010*\"shower\" + 0.010*\"good\" + 0.009*\"small\" + 0.009*\"clean\"\n",
            "\n",
            "Score: 0.1585191786289215\t \n",
            "Topic: 0.016*\"tell\" + 0.014*\"night\" + 0.012*\"check\" + 0.011*\"desk\" + 0.011*\"say\" + 0.011*\"go\" + 0.010*\"time\" + 0.010*\"call\" + 0.010*\"book\" + 0.009*\"ask\"\n",
            "\n",
            "Score: 0.14044663310050964\t \n",
            "Topic: 0.023*\"great\" + 0.018*\"night\" + 0.016*\"locat\" + 0.011*\"walk\" + 0.010*\"good\" + 0.010*\"floor\" + 0.009*\"staff\" + 0.009*\"like\" + 0.009*\"littl\" + 0.008*\"look\"\n"
          ],
          "name": "stdout"
        }
      ]
    },
    {
      "cell_type": "code",
      "metadata": {
        "id": "7qfeVMQyd4Dw",
        "colab_type": "code",
        "colab": {
          "base_uri": "https://localhost:8080/",
          "height": 202
        },
        "outputId": "6f1ce388-b1c9-4b44-fa7c-364f8b0bf1c3"
      },
      "source": [
        "for index, score in sorted(lda_model_tfidf[bow_corpus[38900]], key=lambda tup: -1*tup[1]):\n",
        "    print(\"\\nScore: {}\\t \\nTopic: {}\".format(score, lda_model_tfidf.print_topic(index, 10)))"
      ],
      "execution_count": 64,
      "outputs": [
        {
          "output_type": "stream",
          "text": [
            "\n",
            "Score: 0.6819562315940857\t \n",
            "Topic: 0.004*\"dirti\" + 0.004*\"night\" + 0.003*\"like\" + 0.003*\"check\" + 0.003*\"desk\" + 0.003*\"bathroom\" + 0.003*\"look\" + 0.003*\"smell\" + 0.003*\"floor\" + 0.003*\"tell\"\n",
            "\n",
            "Score: 0.19683115184307098\t \n",
            "Topic: 0.004*\"night\" + 0.004*\"park\" + 0.004*\"good\" + 0.003*\"time\" + 0.003*\"nice\" + 0.003*\"small\" + 0.003*\"like\" + 0.003*\"price\" + 0.003*\"check\" + 0.003*\"bathroom\"\n",
            "\n",
            "Score: 0.10097447782754898\t \n",
            "Topic: 0.007*\"breakfast\" + 0.005*\"great\" + 0.004*\"clean\" + 0.004*\"good\" + 0.004*\"cereal\" + 0.004*\"coffe\" + 0.004*\"friend\" + 0.004*\"nice\" + 0.004*\"egg\" + 0.004*\"fruit\"\n"
          ],
          "name": "stdout"
        }
      ]
    },
    {
      "cell_type": "markdown",
      "metadata": {
        "id": "RXKqbcvkdelF",
        "colab_type": "text"
      },
      "source": [
        "##Evaluate for all documents "
      ]
    },
    {
      "cell_type": "code",
      "metadata": {
        "id": "IEmn4yOgddp_",
        "colab_type": "code",
        "colab": {}
      },
      "source": [
        ""
      ],
      "execution_count": 0,
      "outputs": []
    }
  ]
}